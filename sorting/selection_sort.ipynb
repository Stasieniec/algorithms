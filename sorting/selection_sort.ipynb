{
 "cells": [
  {
   "cell_type": "markdown",
   "metadata": {},
   "source": [
    "# Selection Sort \n",
    "This simple algorithm tackles the problem of sorting an array.  \n",
    "Basic properties:   \n",
    "- runs in $ O(n^2) $ time   \n",
    "- requires linear memory.  \n",
    "- stable sorting (order of duplicates is not mixed)      "
   ]
  },
  {
   "cell_type": "code",
   "execution_count": 5,
   "metadata": {},
   "outputs": [],
   "source": [
    "# Example data\n",
    "array = [1, 9, 2, 8, 3, 7, 4, 6, 5]"
   ]
  },
  {
   "cell_type": "code",
   "execution_count": 6,
   "metadata": {},
   "outputs": [],
   "source": [
    "def selection_sort(arr):\n",
    "    for x in arr:\n",
    "        for "
   ]
  },
  {
   "cell_type": "code",
   "execution_count": 7,
   "metadata": {},
   "outputs": [
    {
     "name": "stdout",
     "output_type": "stream",
     "text": [
      "Array before sorting: [1, 9, 2, 8, 3, 7, 4, 6, 5]\n",
      "Array after sorting: [1, 2, 3, 4, 5, 6, 7, 8, 9]\n"
     ]
    }
   ],
   "source": [
    "print(f'Array before sorting: {array}')\n",
    "selection_sort(array)\n",
    "print(f'Array after sorting: {array}')"
   ]
  }
 ],
 "metadata": {
  "kernelspec": {
   "display_name": "TA_python",
   "language": "python",
   "name": "python3"
  },
  "language_info": {
   "codemirror_mode": {
    "name": "ipython",
    "version": 3
   },
   "file_extension": ".py",
   "mimetype": "text/x-python",
   "name": "python",
   "nbconvert_exporter": "python",
   "pygments_lexer": "ipython3",
   "version": "3.10.0"
  },
  "orig_nbformat": 4
 },
 "nbformat": 4,
 "nbformat_minor": 2
}
