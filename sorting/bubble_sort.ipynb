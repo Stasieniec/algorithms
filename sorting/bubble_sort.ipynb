{
 "cells": [
  {
   "cell_type": "markdown",
   "metadata": {},
   "source": [
    "# Bubble Sort   \n",
    "This simple algorithm tackles the problem of sorting an array.  \n",
    "Basic properties:   \n",
    "- runs in $ O(n^2) $ time   \n",
    "- requires linear memory.  \n",
    "- stable sorting (order of duplicates is not mixed)   \n",
    "\n",
    "To perform it, switch every unordered pair of elements, until there is nothing to switch in an array.  \n",
    "Assuming, that we want to sort an array in ascending order:    \n",
    "1. Check if $n$-th element is bigger than $n+1$-th element\n",
    "2. If so, swap these elements\n",
    "3. Increase $n$ by one.\n",
    "4. Repeat steps 1 - 3, until nothing is switched during an iteration of the whole array.   \n",
    "   "
   ]
  },
  {
   "cell_type": "code",
   "execution_count": 5,
   "metadata": {},
   "outputs": [],
   "source": [
    "# Example data\n",
    "array = [1, 9, 2, 8, 3, 7, 4, 6, 5]"
   ]
  },
  {
   "cell_type": "code",
   "execution_count": 6,
   "metadata": {},
   "outputs": [],
   "source": [
    "def bubble_sort(arr):\n",
    "    is_sorted = False # boolean flag, which is set to False when elements are switched\n",
    "    while is_sorted == False:\n",
    "        for i in range(1, len(arr)):\n",
    "            if arr[i] < arr[i-1]: # To sort in descending order, change '<' to '>'\n",
    "                arr[i], arr[i-1] = arr[i-1], arr[i]\n",
    "                is_sorted = False"
   ]
  },
  {
   "cell_type": "code",
   "execution_count": 7,
   "metadata": {},
   "outputs": [
    {
     "name": "stdout",
     "output_type": "stream",
     "text": [
      "Array before sorting: [1, 9, 2, 8, 3, 7, 4, 6, 5]\n",
      "Array after sorting: [1, 2, 3, 4, 5, 6, 7, 8, 9]\n"
     ]
    }
   ],
   "source": [
    "print(f'Array before sorting: {array}')\n",
    "bubble_sort(array)\n",
    "print(f'Array after sorting: {array}')"
   ]
  }
 ],
 "metadata": {
  "kernelspec": {
   "display_name": "TA_python",
   "language": "python",
   "name": "python3"
  },
  "language_info": {
   "codemirror_mode": {
    "name": "ipython",
    "version": 3
   },
   "file_extension": ".py",
   "mimetype": "text/x-python",
   "name": "python",
   "nbconvert_exporter": "python",
   "pygments_lexer": "ipython3",
   "version": "3.10.0"
  },
  "orig_nbformat": 4
 },
 "nbformat": 4,
 "nbformat_minor": 2
}
