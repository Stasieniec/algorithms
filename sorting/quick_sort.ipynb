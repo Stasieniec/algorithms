{
 "cells": [
  {
   "cell_type": "markdown",
   "metadata": {},
   "source": [
    "# Quick Sort   \n",
    "This algorithm tackles the problem of sorting an array.  \n",
    "Basic properties:   \n",
    "- runs in $ O(n \\log{n}) $ to $O(n^2)$ time, depending on the positioning of the pivot.\n",
    "- requires $n$ memory (linear).\n",
    "- not stable sorting (order of duplicates is mixed).   "
   ]
  },
  {
   "cell_type": "code",
   "execution_count": 40,
   "metadata": {},
   "outputs": [],
   "source": [
    "# Example data\n",
    "# array is a global variable, as quicksort runs in almost linear memory\n",
    "array = [1, 9, 2, 8, 3, 7, 4, 6, 5]"
   ]
  },
  {
   "cell_type": "code",
   "execution_count": 42,
   "metadata": {},
   "outputs": [],
   "source": [
    "import random\n",
    "\n",
    "def quicksort(left, right):\n",
    "    if left < right:\n",
    "        pivot = partition(left, right)\n",
    "        quicksort(left, pivot-1)\n",
    "        quicksort(pivot+1, right)\n",
    "\n",
    "def partition(l, r):\n",
    "    rand_p = random.randint(l, r) # random pivot\n",
    "    array[rand_p], array[l] = array[l], array[rand_p] # move the random pivot to the left, by switching with the left element\n",
    "\n",
    "    p = array[l]\n",
    "    i = l+1 # First element that is not smaller than the pivot\n",
    "    for j in range(l+1, r+1):\n",
    "        if array[j] < p:\n",
    "            array[j], array[i] = array[i], array[j] # Switch current element with the first non-smaller than the pivot element\n",
    "            i += 1\n",
    "\n",
    "    # Switching the last element smaller than the pivot (i-1) with the pivot\n",
    "    array[l], array[i-1] = array[i-1], array[l]\n",
    "    return i - 1\n"
   ]
  },
  {
   "cell_type": "code",
   "execution_count": 43,
   "metadata": {},
   "outputs": [
    {
     "name": "stdout",
     "output_type": "stream",
     "text": [
      "Array before sorting: [1, 9, 2, 8, 3, 7, 4, 6, 5]\n",
      "Array after sorting: [1, 2, 3, 4, 5, 6, 7, 8, 9]\n"
     ]
    }
   ],
   "source": [
    "print(f'Array before sorting: {array}')\n",
    "quicksort(0, len(array)-1)\n",
    "print(f'Array after sorting: {array}')"
   ]
  }
 ],
 "metadata": {
  "kernelspec": {
   "display_name": "TA_python",
   "language": "python",
   "name": "python3"
  },
  "language_info": {
   "codemirror_mode": {
    "name": "ipython",
    "version": 3
   },
   "file_extension": ".py",
   "mimetype": "text/x-python",
   "name": "python",
   "nbconvert_exporter": "python",
   "pygments_lexer": "ipython3",
   "version": "3.10.0"
  },
  "orig_nbformat": 4
 },
 "nbformat": 4,
 "nbformat_minor": 2
}
