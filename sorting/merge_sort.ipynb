{
 "cells": [
  {
   "cell_type": "markdown",
   "metadata": {},
   "source": [
    "# Merge Sort   \n",
    "This simple algorithm tackles the problem of sorting an array.  \n",
    "Basic properties:   \n",
    "- runs in $ O(n \\log{n}) $ time   \n",
    "- requires $n \\log{n}$ memory.  \n",
    "- stable sorting (order of duplicates is not mixed)   "
   ]
  },
  {
   "cell_type": "code",
   "execution_count": 13,
   "metadata": {},
   "outputs": [],
   "source": [
    "# Example data\n",
    "array = [1, 9, 2, 8, 3, 7, 4, 6, 5]"
   ]
  },
  {
   "cell_type": "code",
   "execution_count": 18,
   "metadata": {},
   "outputs": [],
   "source": [
    "def merge_sort(arr):\n",
    "\n",
    "    if len(arr) == 1:\n",
    "        return arr\n",
    "    \n",
    "    mid = len(arr)//2\n",
    "    left = merge_sort(arr[:mid])\n",
    "    right = merge_sort(arr[mid:])\n",
    "    \n",
    "    result = merge(left, right)\n",
    "    return result\n",
    "\n",
    "def merge(arr1, arr2):\n",
    "    result = []\n",
    "    i = 0\n",
    "    j = 0 \n",
    "    for x in range(len(arr1) + len(arr2)):\n",
    "\n",
    "        if j >= len(arr2):\n",
    "            result.append(arr1[i])\n",
    "            i +=1\n",
    "        elif i >= len(arr1):\n",
    "            result.append(arr2[j])\n",
    "            j += 1\n",
    "\n",
    "        else: \n",
    "            if arr1[i] <= arr2[j]:\n",
    "                result.append(arr1[i])\n",
    "                i +=1\n",
    "            else:\n",
    "                result.append(arr2[j])\n",
    "                j += 1\n",
    "    return result\n",
    "    \n",
    "\n"
   ]
  },
  {
   "cell_type": "code",
   "execution_count": 19,
   "metadata": {},
   "outputs": [
    {
     "name": "stdout",
     "output_type": "stream",
     "text": [
      "Array before sorting: [1, 9, 2, 8, 3, 7, 4, 6, 5]\n",
      "Array after sorting: [1, 2, 3, 4, 5, 6, 7, 8, 9]\n"
     ]
    }
   ],
   "source": [
    "print(f'Array before sorting: {array}')\n",
    "print(f'Array after sorting: {merge_sort(array)}')"
   ]
  },
  {
   "cell_type": "code",
   "execution_count": null,
   "metadata": {},
   "outputs": [],
   "source": []
  },
  {
   "cell_type": "code",
   "execution_count": null,
   "metadata": {},
   "outputs": [],
   "source": []
  }
 ],
 "metadata": {
  "kernelspec": {
   "display_name": "TA_python",
   "language": "python",
   "name": "python3"
  },
  "language_info": {
   "codemirror_mode": {
    "name": "ipython",
    "version": 3
   },
   "file_extension": ".py",
   "mimetype": "text/x-python",
   "name": "python",
   "nbconvert_exporter": "python",
   "pygments_lexer": "ipython3",
   "version": "3.10.0"
  },
  "orig_nbformat": 4
 },
 "nbformat": 4,
 "nbformat_minor": 2
}
