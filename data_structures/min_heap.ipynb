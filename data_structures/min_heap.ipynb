{
 "cells": [
  {
   "cell_type": "code",
   "execution_count": null,
   "metadata": {},
   "outputs": [],
   "source": [
    "# Example data\n",
    "array = [1, 9, 2, 8, 3, 7, 4, 6, 5]"
   ]
  },
  {
   "cell_type": "code",
   "execution_count": null,
   "metadata": {},
   "outputs": [],
   "source": [
    "class Min_heap():\n",
    "    def __init__(self, heap = [0]) -> None:\n",
    "        # The first element should have index 0 for the sake of division and multiplication\n",
    "        self.heap = heap\n",
    "        pass\n",
    "\n",
    "    def get_min_element(self):\n",
    "        return self.heap[1]\n",
    "    \n",
    "    def remove_min_element(self):\n",
    "        is_ok = False\n",
    "        index = 1\n",
    "        while is_ok == False:\n",
    "            self.heap[index] = min(self.heap[index*2], self.heap[(index*2)+1])\n",
    "            inde\n",
    "\n",
    "        return self.heap[1]\n",
    "    \n",
    "    def add_to_heap(self, element):\n",
    "        self.heap.append(element)\n",
    "        ind_element = len(self.heap) - 1\n",
    "\n",
    "        # Now switch this element with its parent until the parent is smaller or equal\n",
    "        while self.heap[ind_element] < self.heap[ind_element//2]:\n",
    "            self.heap[ind_element], self.heap[ind_element//2] = self.heap[ind_element//2], self.heap[ind_element]\n",
    "            ind_element = ind_element//2"
   ]
  }
 ],
 "metadata": {
  "language_info": {
   "name": "python"
  },
  "orig_nbformat": 4
 },
 "nbformat": 4,
 "nbformat_minor": 2
}
